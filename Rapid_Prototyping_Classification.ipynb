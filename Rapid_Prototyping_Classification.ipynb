{
  "nbformat": 4,
  "nbformat_minor": 0,
  "metadata": {
    "colab": {
      "name": "Rapid Prototyping Classification.ipynb",
      "provenance": [],
      "collapsed_sections": [],
      "authorship_tag": "ABX9TyMH1kJ/RqCuJY/rY9oYw6st",
      "include_colab_link": true
    },
    "kernelspec": {
      "name": "python3",
      "display_name": "Python 3"
    },
    "language_info": {
      "name": "python"
    }
  },
  "cells": [
    {
      "cell_type": "markdown",
      "metadata": {
        "id": "view-in-github",
        "colab_type": "text"
      },
      "source": [
        "<a href=\"https://colab.research.google.com/github/guptankit005/Analytics/blob/master/Rapid_Prototyping_Classification.ipynb\" target=\"_parent\"><img src=\"https://colab.research.google.com/assets/colab-badge.svg\" alt=\"Open In Colab\"/></a>"
      ]
    },
    {
      "cell_type": "code",
      "execution_count": 55,
      "metadata": {
        "id": "FvuG7Jr19VId"
      },
      "outputs": [],
      "source": [
        "#importing and pandas and numpy\n",
        "import pandas as pd\n",
        "import numpy as np"
      ]
    },
    {
      "cell_type": "code",
      "source": [
        "#importing data from sklearn\n",
        "from sklearn.datasets import load_breast_cancer\n",
        "data = load_breast_cancer()\n",
        "\n",
        "#converting data into pandas dataframe\n",
        "canc_data = pd.DataFrame(data.data, columns=data.feature_names)\n",
        "canc_data['target'] = pd.Series(data.target)#adding target field to the dataset"
      ],
      "metadata": {
        "id": "P4ntUKf_9cwy"
      },
      "execution_count": 56,
      "outputs": []
    },
    {
      "cell_type": "code",
      "source": [
        "#to show the first five rows of data\n",
        "#canc_data.head()\n",
        "\n",
        "#to get info about data\n",
        "#canc_data.info()\n",
        "\n",
        "#to check the presence of null values\n",
        "#canc_data.isna().sum()\n",
        "\n",
        "#to check for presence of duplicate values\n",
        "#canc_data.duplicated().sum()"
      ],
      "metadata": {
        "id": "1-UdLAWw9mW9"
      },
      "execution_count": 57,
      "outputs": []
    },
    {
      "cell_type": "code",
      "source": [
        "def classifier_prototyping(X,y):\n",
        "\n",
        "  #splitting the dataset\n",
        "  from sklearn.model_selection import train_test_split\n",
        "  X_train, X_test, y_train, y_test = train_test_split(X, y, test_size = 0.3, random_state = 100)\n",
        "\n",
        "  #importing all the classification libraries\n",
        "  from sklearn.linear_model import LogisticRegression\n",
        "  from sklearn.naive_bayes import GaussianNB\n",
        "  from sklearn.svm import SVC\n",
        "  from sklearn.neighbors import KNeighborsClassifier\n",
        "  from sklearn.tree import DecisionTreeClassifier\n",
        "  from sklearn.ensemble import RandomForestClassifier\n",
        "  from sklearn.ensemble import AdaBoostClassifier\n",
        "  from sklearn.metrics import confusion_matrix\n",
        "  from sklearn.metrics import precision_score, recall_score, f1_score, accuracy_score\n",
        "  from sklearn.metrics import log_loss\n",
        "  import seaborn as sns\n",
        "  import matplotlib.pyplot as plt\n",
        "\n",
        "\n",
        "  classifier_names = [\n",
        "  \"Logistic Regression\",\n",
        "  \"Naive Bayes\",\n",
        "  \"Linear SVM\",\n",
        "  \"KNN\",\n",
        "  \"Decision Tree\",\n",
        "  \"Random Forest\",\n",
        "  \"AdaBoost\"\n",
        "  ]\n",
        "\n",
        "  classifiers = [\n",
        "  LogisticRegression(max_iter=3000),\n",
        "  GaussianNB(), \n",
        "  SVC(kernel=\"linear\", C=0.025),            \n",
        "  KNeighborsClassifier(3),\n",
        "  DecisionTreeClassifier(max_depth=5),\n",
        "  RandomForestClassifier(max_depth=5, n_estimators=10, max_features=1),\n",
        "  AdaBoostClassifier(),\n",
        "  ]\n",
        "\n",
        "  for i in range(0,7): \n",
        "    print('**********',classifier_names[i],'**********')\n",
        "    print(\"Accuracy score on test: \" , round((classifiers[i].fit(X_train, y_train).score(X_test, y_test)),3))\n",
        "    print(\"Accuracy score on train: \", round((classifiers[i].fit(X_train, y_train).score(X_train, y_train)),3))\n",
        "    y_pred = classifiers[i].fit(X_train, y_train).predict(X_test)\n",
        "    #Precision Score = TP / (FP + TP)\n",
        "    print('Precision: ', round(precision_score(y_test, y_pred),3))\n",
        "    #Recall Score = TP / (FN + TP)\n",
        "    print('Recall: ', round(recall_score(y_test, y_pred),3))\n",
        "    #Accuracy Score = (TP + TN)/ (TP + FN + TN + FP)\n",
        "    #print('Accuracy: %.3f' % accuracy_score(y_test, y_pred))\n",
        "    #F1 Score = 2* Precision Score * Recall Score/ (Precision Score + Recall Score/)\n",
        "    print('F1 Score: ' , round(f1_score(y_test, y_pred),3))\n",
        "    #prinying log loss for the model\n",
        "    print('log_loss : ', round(log_loss(y_test, y_pred),3))\n",
        "       \n",
        "    cf_matrix = confusion_matrix(y_test, y_pred)\n",
        "    sns.heatmap(cf_matrix, annot=True, cmap='Blues')\n",
        "    plt.ylabel(\"True Label\")\n",
        "    plt.xlabel(\"Predicted Label\")\n",
        "    plt.show()\n",
        "    print(\"---------------------------------------------------------------\")\n",
        "    print(\"\")"
      ],
      "metadata": {
        "id": "z3TKaz7lA2TU"
      },
      "execution_count": 58,
      "outputs": []
    },
    {
      "cell_type": "code",
      "source": [
        "#creating X and y\n",
        "X_feature = list(canc_data.columns)\n",
        "X_feature.remove('target')\n",
        "X = canc_data[X_feature]\n",
        "\n",
        "y = canc_data['target']"
      ],
      "metadata": {
        "id": "NEoZx3FpMwxB"
      },
      "execution_count": 59,
      "outputs": []
    },
    {
      "cell_type": "code",
      "source": [
        "classifier_prototyping(X,y)"
      ],
      "metadata": {
        "colab": {
          "base_uri": "https://localhost:8080/",
          "height": 1000
        },
        "id": "RDVB1_2sYEA6",
        "outputId": "e921fc7a-9a55-4ddb-8fb7-f804639e0e78"
      },
      "execution_count": 60,
      "outputs": [
        {
          "output_type": "stream",
          "name": "stdout",
          "text": [
            "********** Logistic Regression **********\n",
            "Accuracy score on test:  0.953\n",
            "Accuracy score on train:  0.96\n",
            "Precision:  0.952\n",
            "Recall:  0.971\n",
            "F1 Score:  0.961\n",
            "log_loss :  1.616\n"
          ]
        },
        {
          "output_type": "display_data",
          "data": {
            "image/png": "[encoded data removed]",
            "text/plain": [
              "<Figure size 432x288 with 2 Axes>"
            ]
          },
          "metadata": {
            "needs_background": "light"
          }
        },
        {
          "output_type": "stream",
          "name": "stdout",
          "text": [
            "---------------------------------------------------------------\n",
            "\n",
            "********** Naive Bayes **********\n",
            "Accuracy score on test:  0.924\n",
            "Accuracy score on train:  0.95\n",
            "Precision:  0.908\n",
            "Recall:  0.971\n",
            "F1 Score:  0.938\n",
            "log_loss :  2.626\n"
          ]
        },
        {
          "output_type": "display_data",
          "data": {
            "image/png": "[encoded data removed]",
            "text/plain": [
              "<Figure size 432x288 with 2 Axes>"
            ]
          },
          "metadata": {
            "needs_background": "light"
          }
        },
        {
          "output_type": "stream",
          "name": "stdout",
          "text": [
            "---------------------------------------------------------------\n",
            "\n",
            "********** Linear SVM **********\n",
            "Accuracy score on test:  0.947\n",
            "Accuracy score on train:  0.955\n",
            "Precision:  0.951\n",
            "Recall:  0.961\n",
            "F1 Score:  0.956\n",
            "log_loss :  1.818\n"
          ]
        },
        {
          "output_type": "display_data",
          "data": {
            "image/png": "[encoded data removed]",
            "text/plain": [
              "<Figure size 432x288 with 2 Axes>"
            ]
          },
          "metadata": {
            "needs_background": "light"
          }
        },
        {
          "output_type": "stream",
          "name": "stdout",
          "text": [
            "---------------------------------------------------------------\n",
            "\n",
            "********** KNN **********\n",
            "Accuracy score on test:  0.947\n",
            "Accuracy score on train:  0.95\n",
            "Precision:  0.951\n",
            "Recall:  0.961\n",
            "F1 Score:  0.956\n",
            "log_loss :  1.818\n"
          ]
        },
        {
          "output_type": "display_data",
          "data": {
            "image/png": "[encoded data removed]",
            "text/plain": [
              "<Figure size 432x288 with 2 Axes>"
            ]
          },
          "metadata": {
            "needs_background": "light"
          }
        },
        {
          "output_type": "stream",
          "name": "stdout",
          "text": [
            "---------------------------------------------------------------\n",
            "\n",
            "********** Decision Tree **********\n",
            "Accuracy score on test:  0.942\n",
            "Accuracy score on train:  0.995\n",
            "Precision:  0.935\n",
            "Recall:  0.98\n",
            "F1 Score:  0.957\n",
            "log_loss :  1.818\n"
          ]
        },
        {
          "output_type": "display_data",
          "data": {
            "image/png": "[encoded data removed]",
            "text/plain": [
              "<Figure size 432x288 with 2 Axes>"
            ]
          },
          "metadata": {
            "needs_background": "light"
          }
        },
        {
          "output_type": "stream",
          "name": "stdout",
          "text": [
            "---------------------------------------------------------------\n",
            "\n",
            "********** Random Forest **********\n",
            "Accuracy score on test:  0.942\n",
            "Accuracy score on train:  0.982\n",
            "Precision:  0.927\n",
            "Recall:  0.99\n",
            "F1 Score:  0.957\n",
            "log_loss :  1.818\n"
          ]
        },
        {
          "output_type": "display_data",
          "data": {
            "image/png": "[encoded data removed]",
            "text/plain": [
              "<Figure size 432x288 with 2 Axes>"
            ]
          },
          "metadata": {
            "needs_background": "light"
          }
        },
        {
          "output_type": "stream",
          "name": "stdout",
          "text": [
            "---------------------------------------------------------------\n",
            "\n",
            "********** AdaBoost **********\n",
            "Accuracy score on test:  0.965\n",
            "Accuracy score on train:  1.0\n",
            "Precision:  0.944\n",
            "Recall:  1.0\n",
            "F1 Score:  0.971\n",
            "log_loss :  1.212\n"
          ]
        },
        {
          "output_type": "display_data",
          "data": {
            "image/png": "[encoded data removed]",
            "text/plain": [
              "<Figure size 432x288 with 2 Axes>"
            ]
          },
          "metadata": {
            "needs_background": "light"
          }
        },
        {
          "output_type": "stream",
          "name": "stdout",
          "text": [
            "---------------------------------------------------------------\n",
            "\n"
          ]
        }
      ]
    }
  ]
}