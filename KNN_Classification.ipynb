{
  "nbformat": 4,
  "nbformat_minor": 0,
  "metadata": {
    "colab": {
      "name": "KNN Classification.ipynb",
      "provenance": [],
      "collapsed_sections": [],
      "authorship_tag": "ABX9TyONzDEUjIdR+PlHJ/MACoTi",
      "include_colab_link": true
    },
    "kernelspec": {
      "name": "python3",
      "display_name": "Python 3"
    },
    "language_info": {
      "name": "python"
    }
  },
  "cells": [
    {
      "cell_type": "markdown",
      "metadata": {
        "id": "view-in-github",
        "colab_type": "text"
      },
      "source": [
        "<a href=\"https://colab.research.google.com/github/guptankit005/Analytics/blob/master/KNN_Classification.ipynb\" target=\"_parent\"><img src=\"https://colab.research.google.com/assets/colab-badge.svg\" alt=\"Open In Colab\"/></a>"
      ]
    },
    {
      "cell_type": "code",
      "execution_count": null,
      "metadata": {
        "id": "tCQUeFIvCYPR"
      },
      "outputs": [],
      "source": [
        ""
      ]
    },
    {
      "cell_type": "code",
      "execution_count": null,
      "metadata": {
        "id": "hQ_ogdCSX4z4"
      },
      "outputs": [],
      "source": [
        "#importing libraries\n",
        "import pandas as pd\n",
        "import numpy as np\n",
        "import matplotlib.pyplot as plt\n",
        "import seaborn as sns\n",
        "%matplotlib inline"
      ]
    },
    {
      "cell_type": "code",
      "source": [
        "#importing data from sklearn\n",
        "from sklearn.datasets import load_breast_cancer\n",
        "data = load_breast_cancer()\n",
        "\n",
        "#converting data into pandas dataframe\n",
        "canc_data = pd.DataFrame(data.data, columns=data.feature_names)\n",
        "\n",
        "#adding target field to the dataset\n",
        "canc_data['target'] = pd.Series(data.target)"
      ],
      "metadata": {
        "id": "HCTzVnvXZiyD"
      },
      "execution_count": null,
      "outputs": []
    },
    {
      "cell_type": "code",
      "source": [
        "print(data.DESCR)"
      ],
      "metadata": {
        "colab": {
          "base_uri": "https://localhost:8080/"
        },
        "id": "J9HICF04ZfAG",
        "outputId": "48a548a5-3149-4081-f6a0-c9d54e816967"
      },
      "execution_count": null,
      "outputs": [
        {
          "output_type": "stream",
          "name": "stdout",
          "text": [
            ".. _breast_cancer_dataset:\n",
            "\n",
            "Breast cancer wisconsin (diagnostic) dataset\n",
            "--------------------------------------------\n",
            "\n",
            "**Data Set Characteristics:**\n",
            "\n",
            "    :Number of Instances: 569\n",
            "\n",
            "    :Number of Attributes: 30 numeric, predictive attributes and the class\n",
            "\n",
            "    :Attribute Information:\n",
            "        - radius (mean of distances from center to points on the perimeter)\n",
            "        - texture (standard deviation of gray-scale values)\n",
            "        - perimeter\n",
            "        - area\n",
            "        - smoothness (local variation in radius lengths)\n",
            "        - compactness (perimeter^2 / area - 1.0)\n",
            "        - concavity (severity of concave portions of the contour)\n",
            "        - concave points (number of concave portions of the contour)\n",
            "        - symmetry\n",
            "        - fractal dimension (\"coastline approximation\" - 1)\n",
            "\n",
            "        The mean, standard error, and \"worst\" or largest (mean of the three\n",
            "        worst/largest values) of these features were computed for each image,\n",
            "        resulting in 30 features.  For instance, field 0 is Mean Radius, field\n",
            "        10 is Radius SE, field 20 is Worst Radius.\n",
            "\n",
            "        - class:\n",
            "                - WDBC-Malignant\n",
            "                - WDBC-Benign\n",
            "\n",
            "    :Summary Statistics:\n",
            "\n",
            "    ===================================== ====== ======\n",
            "                                           Min    Max\n",
            "    ===================================== ====== ======\n",
            "    radius (mean):                        6.981  28.11\n",
            "    texture (mean):                       9.71   39.28\n",
            "    perimeter (mean):                     43.79  188.5\n",
            "    area (mean):                          143.5  2501.0\n",
            "    smoothness (mean):                    0.053  0.163\n",
            "    compactness (mean):                   0.019  0.345\n",
            "    concavity (mean):                     0.0    0.427\n",
            "    concave points (mean):                0.0    0.201\n",
            "    symmetry (mean):                      0.106  0.304\n",
            "    fractal dimension (mean):             0.05   0.097\n",
            "    radius (standard error):              0.112  2.873\n",
            "    texture (standard error):             0.36   4.885\n",
            "    perimeter (standard error):           0.757  21.98\n",
            "    area (standard error):                6.802  542.2\n",
            "    smoothness (standard error):          0.002  0.031\n",
            "    compactness (standard error):         0.002  0.135\n",
            "    concavity (standard error):           0.0    0.396\n",
            "    concave points (standard error):      0.0    0.053\n",
            "    symmetry (standard error):            0.008  0.079\n",
            "    fractal dimension (standard error):   0.001  0.03\n",
            "    radius (worst):                       7.93   36.04\n",
            "    texture (worst):                      12.02  49.54\n",
            "    perimeter (worst):                    50.41  251.2\n",
            "    area (worst):                         185.2  4254.0\n",
            "    smoothness (worst):                   0.071  0.223\n",
            "    compactness (worst):                  0.027  1.058\n",
            "    concavity (worst):                    0.0    1.252\n",
            "    concave points (worst):               0.0    0.291\n",
            "    symmetry (worst):                     0.156  0.664\n",
            "    fractal dimension (worst):            0.055  0.208\n",
            "    ===================================== ====== ======\n",
            "\n",
            "    :Missing Attribute Values: None\n",
            "\n",
            "    :Class Distribution: 212 - Malignant, 357 - Benign\n",
            "\n",
            "    :Creator:  Dr. William H. Wolberg, W. Nick Street, Olvi L. Mangasarian\n",
            "\n",
            "    :Donor: Nick Street\n",
            "\n",
            "    :Date: November, 1995\n",
            "\n",
            "This is a copy of UCI ML Breast Cancer Wisconsin (Diagnostic) datasets.\n",
            "https://goo.gl/U2Uwz2\n",
            "\n",
            "Features are computed from a digitized image of a fine needle\n",
            "aspirate (FNA) of a breast mass.  They describe\n",
            "characteristics of the cell nuclei present in the image.\n",
            "\n",
            "Separating plane described above was obtained using\n",
            "Multisurface Method-Tree (MSM-T) [K. P. Bennett, \"Decision Tree\n",
            "Construction Via Linear Programming.\" Proceedings of the 4th\n",
            "Midwest Artificial Intelligence and Cognitive Science Society,\n",
            "pp. 97-101, 1992], a classification method which uses linear\n",
            "programming to construct a decision tree.  Relevant features\n",
            "were selected using an exhaustive search in the space of 1-4\n",
            "features and 1-3 separating planes.\n",
            "\n",
            "The actual linear program used to obtain the separating plane\n",
            "in the 3-dimensional space is that described in:\n",
            "[K. P. Bennett and O. L. Mangasarian: \"Robust Linear\n",
            "Programming Discrimination of Two Linearly Inseparable Sets\",\n",
            "Optimization Methods and Software 1, 1992, 23-34].\n",
            "\n",
            "This database is also available through the UW CS ftp server:\n",
            "\n",
            "ftp ftp.cs.wisc.edu\n",
            "cd math-prog/cpo-dataset/machine-learn/WDBC/\n",
            "\n",
            ".. topic:: References\n",
            "\n",
            "   - W.N. Street, W.H. Wolberg and O.L. Mangasarian. Nuclear feature extraction \n",
            "     for breast tumor diagnosis. IS&T/SPIE 1993 International Symposium on \n",
            "     Electronic Imaging: Science and Technology, volume 1905, pages 861-870,\n",
            "     San Jose, CA, 1993.\n",
            "   - O.L. Mangasarian, W.N. Street and W.H. Wolberg. Breast cancer diagnosis and \n",
            "     prognosis via linear programming. Operations Research, 43(4), pages 570-577, \n",
            "     July-August 1995.\n",
            "   - W.H. Wolberg, W.N. Street, and O.L. Mangasarian. Machine learning techniques\n",
            "     to diagnose breast cancer from fine-needle aspirates. Cancer Letters 77 (1994) \n",
            "     163-171.\n"
          ]
        }
      ]
    },
    {
      "cell_type": "code",
      "source": [
        "#printing first five rows of data\n",
        "#canc_data.head()\n",
        "\n",
        "#checking information about all the columns\n",
        "#canc_data.info()\n",
        "\n",
        "#checking basic statistical distribution of data\n",
        "#canc_data.describe().transpose()\n",
        "\n",
        "#checking for null values\n",
        "#canc_data.isnull().sum()\n",
        "\n",
        "#checking for duplicate rows\n",
        "#canc_data.duplicated().sum()\n",
        "\n",
        "#212 - Malignant, 357 - Benign\n",
        "canc_data['target'].value_counts()\n",
        "#value count to see if data is balanced or imbalanced."
      ],
      "metadata": {
        "colab": {
          "base_uri": "https://localhost:8080/"
        },
        "id": "3EDwt4k3bakk",
        "outputId": "c1e39253-d18f-4e21-ce02-a9d59ba9af0f"
      },
      "execution_count": null,
      "outputs": [
        {
          "output_type": "execute_result",
          "data": {
            "text/plain": [
              "1    357\n",
              "0    212\n",
              "Name: target, dtype: int64"
            ]
          },
          "metadata": {},
          "execution_count": 8
        }
      ]
    },
    {
      "cell_type": "code",
      "source": [
        "#creating X and y\n",
        "X_feature = list(canc_data.columns)\n",
        "X_feature.remove('target')\n",
        "\n",
        "X = canc_data[X_feature]\n",
        "y = canc_data['target']"
      ],
      "metadata": {
        "id": "ZcQ90Su2dRoJ"
      },
      "execution_count": null,
      "outputs": []
    },
    {
      "cell_type": "code",
      "source": [
        "#splitting data for training and testing\n",
        "from sklearn.model_selection import train_test_split\n",
        "X_train, X_test, y_train, y_test = train_test_split(X, y, test_size = 0.3, random_state = 100)"
      ],
      "metadata": {
        "id": "HguHeeo1dL1v"
      },
      "execution_count": null,
      "outputs": []
    },
    {
      "cell_type": "code",
      "source": [
        "#importing KNN from sklearn\n",
        "from sklearn.neighbors import KNeighborsClassifier\n",
        "\n",
        "knn_clf = KNeighborsClassifier(n_neighbors=5, metric='minkowski').fit(X_train, y_train)\n",
        "\n",
        "#predicting for our test data\n",
        "y_pred = knn_clf.predict(X_test)\n",
        "#generating classification report \n",
        "from sklearn.metrics import classification_report\n",
        "print(classification_report(y_test, y_pred))\n",
        "\n",
        "#importing libraries to check model performance\n",
        "from sklearn.metrics import confusion_matrix\n",
        "from sklearn.metrics import accuracy_score\n",
        "from sklearn.metrics import log_loss\n",
        "from sklearn import metrics\n",
        "\n",
        "print(\"Accuracy score on test: \" , round((knn_clf.score(X_test, y_test)),3))\n",
        "print(\"Accuracy score on train: \", round((knn_clf.score(X_train, y_train)),3))\n",
        "\n",
        "#printing log loss for the model\n",
        "print('log_loss : ', log_loss(y_test, y_pred))\n",
        "\n",
        "\n",
        "\n",
        "#let find ROC and AUC score\n",
        "#before we calculate roc_auc_score(), we need to find out the predicted probabilityiies for test data.\n",
        "\n",
        "pred_prob = pd.DataFrame(knn_clf.predict_proba(X_test))\n",
        "\n",
        "#we'll also add the actual label\n",
        "\n",
        "test_result = pd.DataFrame( { 'actual' : y_test})\n",
        "test_result = test_result.reset_index()\n",
        "\n",
        "test_result['prob_0'] = pred_prob.iloc[:,0:1]\n",
        "test_result['prob_1'] = pred_prob.iloc[:,1:2]\n",
        "\n",
        "#to calculate ROC AUC score we will pass actual class labels and predicted probability \n",
        "\n",
        "auc_score = round(metrics.roc_auc_score(test_result.actual, test_result.prob_1),3)\n",
        "print(\"AUC Score : \",auc_score)\n",
        "\n",
        "\n",
        "#generating confusion matrix\n",
        "cf_matrix = confusion_matrix(y_test, y_pred)\n",
        "sns.heatmap(cf_matrix, annot=True, cmap='Blues')\n",
        "plt.ylabel(\"True Label\")\n",
        "plt.xlabel(\"Predicted Label\")\n",
        "plt.show()\n"
      ],
      "metadata": {
        "id": "snEi0UPOgYYB",
        "colab": {
          "base_uri": "https://localhost:8080/",
          "height": 505
        },
        "outputId": "09e4c1fe-3098-4834-c02e-8c0af9ea80a6"
      },
      "execution_count": null,
      "outputs": [
        {
          "output_type": "stream",
          "name": "stdout",
          "text": [
            "              precision    recall  f1-score   support\n",
            "\n",
            "           0       0.93      0.93      0.93        69\n",
            "           1       0.95      0.95      0.95       102\n",
            "\n",
            "    accuracy                           0.94       171\n",
            "   macro avg       0.94      0.94      0.94       171\n",
            "weighted avg       0.94      0.94      0.94       171\n",
            "\n",
            "Accuracy score on test:  0.942\n",
            "Accuracy score on train:  0.94\n",
            "log_loss :  2.019834865124315\n",
            "AUC Score :  0.974\n"
          ]
        },
        {
          "output_type": "display_data",
          "data": {
            "image/png": "[encoded data removed]",
            "text/plain": [
              "<Figure size 432x288 with 2 Axes>"
            ]
          },
          "metadata": {
            "needs_background": "light"
          }
        }
      ]
    },
    {
      "cell_type": "code",
      "source": [
        "#hyperparameter tuning using grid search\n",
        "from sklearn.model_selection import GridSearchCV\n",
        "\n",
        "#we'll create a dictionary with possible hyperparameter values\n",
        "param_val = [{'n_neighbors' : range(3,10),\n",
        "              'metric' : ['euclidean', 'minkowski', 'canberra']}]\n",
        "\n",
        "#grid search configuration\n",
        "clfr = GridSearchCV(KNeighborsClassifier(), param_val, cv = 10, scoring = 'roc_auc')\n",
        "\n",
        "#fitting into our data\n",
        "clfr.fit(X_train, y_train)"
      ],
      "metadata": {
        "colab": {
          "base_uri": "https://localhost:8080/"
        },
        "id": "r5af6GexDoPw",
        "outputId": "c222b31c-e38b-41e2-dd8e-d28f67823539"
      },
      "execution_count": null,
      "outputs": [
        {
          "output_type": "execute_result",
          "data": {
            "text/plain": [
              "GridSearchCV(cv=10, estimator=KNeighborsClassifier(),\n",
              "             param_grid=[{'metric': ['euclidean', 'minkowski', 'canberra'],\n",
              "                          'n_neighbors': range(3, 10)}],\n",
              "             scoring='roc_auc')"
            ]
          },
          "metadata": {},
          "execution_count": 14
        }
      ]
    },
    {
      "cell_type": "code",
      "source": [
        "#we'll see for best score and parameters\n",
        "print(clfr.best_score_)\n",
        "print(clfr.best_params_)"
      ],
      "metadata": {
        "colab": {
          "base_uri": "https://localhost:8080/"
        },
        "id": "XtEzdoHQHJtY",
        "outputId": "aae545cb-8c6a-42b3-f91c-e4cba3fb0f44"
      },
      "execution_count": null,
      "outputs": [
        {
          "output_type": "stream",
          "name": "stdout",
          "text": [
            "0.9858739926739926\n",
            "{'metric': 'canberra', 'n_neighbors': 7}\n"
          ]
        }
      ]
    },
    {
      "cell_type": "code",
      "source": [
        "#lets check all the combinations\n",
        "clfr.cv_results_"
      ],
      "metadata": {
        "colab": {
          "base_uri": "https://localhost:8080/"
        },
        "id": "gm4AYTdFGtFJ",
        "outputId": "5962a6cd-9662-4568-8087-8e3505844413"
      },
      "execution_count": null,
      "outputs": [
        {
          "output_type": "execute_result",
          "data": {
            "text/plain": [
              "{'mean_fit_time': array([0.00406649, 0.00365472, 0.00359654, 0.0038789 , 0.00370274,\n",
              "        0.00362182, 0.00371985, 0.00399425, 0.00373008, 0.00438867,\n",
              "        0.0055043 , 0.00373149, 0.0045934 , 0.00378399, 0.00367527,\n",
              "        0.00247748, 0.0024529 , 0.00239704, 0.0024225 , 0.00238402,\n",
              "        0.00283389]),\n",
              " 'mean_score_time': array([0.0053416 , 0.00537777, 0.00539851, 0.00640018, 0.00620968,\n",
              "        0.00559404, 0.00588219, 0.00569313, 0.00538583, 0.00606179,\n",
              "        0.00666718, 0.00569806, 0.00561962, 0.00576029, 0.00709629,\n",
              "        0.00451024, 0.00478625, 0.0045193 , 0.00455272, 0.00456131,\n",
              "        0.00506332]),\n",
              " 'mean_test_score': array([0.94185238, 0.95478938, 0.95270916, 0.95516007, 0.95734542,\n",
              "        0.95967875, 0.95923407, 0.94185238, 0.95478938, 0.95270916,\n",
              "        0.95516007, 0.95734542, 0.95967875, 0.95923407, 0.97233736,\n",
              "        0.98173956, 0.98186081, 0.9820022 , 0.98587399, 0.98505092,\n",
              "        0.98450549]),\n",
              " 'param_metric': masked_array(data=['euclidean', 'euclidean', 'euclidean', 'euclidean',\n",
              "                    'euclidean', 'euclidean', 'euclidean', 'minkowski',\n",
              "                    'minkowski', 'minkowski', 'minkowski', 'minkowski',\n",
              "                    'minkowski', 'minkowski', 'canberra', 'canberra',\n",
              "                    'canberra', 'canberra', 'canberra', 'canberra',\n",
              "                    'canberra'],\n",
              "              mask=[False, False, False, False, False, False, False, False,\n",
              "                    False, False, False, False, False, False, False, False,\n",
              "                    False, False, False, False, False],\n",
              "        fill_value='?',\n",
              "             dtype=object),\n",
              " 'param_n_neighbors': masked_array(data=[3, 4, 5, 6, 7, 8, 9, 3, 4, 5, 6, 7, 8, 9, 3, 4, 5, 6,\n",
              "                    7, 8, 9],\n",
              "              mask=[False, False, False, False, False, False, False, False,\n",
              "                    False, False, False, False, False, False, False, False,\n",
              "                    False, False, False, False, False],\n",
              "        fill_value='?',\n",
              "             dtype=object),\n",
              " 'params': [{'metric': 'euclidean', 'n_neighbors': 3},\n",
              "  {'metric': 'euclidean', 'n_neighbors': 4},\n",
              "  {'metric': 'euclidean', 'n_neighbors': 5},\n",
              "  {'metric': 'euclidean', 'n_neighbors': 6},\n",
              "  {'metric': 'euclidean', 'n_neighbors': 7},\n",
              "  {'metric': 'euclidean', 'n_neighbors': 8},\n",
              "  {'metric': 'euclidean', 'n_neighbors': 9},\n",
              "  {'metric': 'minkowski', 'n_neighbors': 3},\n",
              "  {'metric': 'minkowski', 'n_neighbors': 4},\n",
              "  {'metric': 'minkowski', 'n_neighbors': 5},\n",
              "  {'metric': 'minkowski', 'n_neighbors': 6},\n",
              "  {'metric': 'minkowski', 'n_neighbors': 7},\n",
              "  {'metric': 'minkowski', 'n_neighbors': 8},\n",
              "  {'metric': 'minkowski', 'n_neighbors': 9},\n",
              "  {'metric': 'canberra', 'n_neighbors': 3},\n",
              "  {'metric': 'canberra', 'n_neighbors': 4},\n",
              "  {'metric': 'canberra', 'n_neighbors': 5},\n",
              "  {'metric': 'canberra', 'n_neighbors': 6},\n",
              "  {'metric': 'canberra', 'n_neighbors': 7},\n",
              "  {'metric': 'canberra', 'n_neighbors': 8},\n",
              "  {'metric': 'canberra', 'n_neighbors': 9}],\n",
              " 'rank_test_score': array([20, 16, 18, 14, 12,  8, 10, 20, 16, 18, 14, 12,  8, 10,  7,  6,  5,\n",
              "         4,  1,  2,  3], dtype=int32),\n",
              " 'split0_test_score': array([1.        , 1.        , 1.        , 1.        , 0.99866667,\n",
              "        0.996     , 0.99866667, 1.        , 1.        , 1.        ,\n",
              "        1.        , 0.99866667, 0.996     , 0.99866667, 0.95866667,\n",
              "        0.996     , 1.        , 1.        , 1.        , 1.        ,\n",
              "        1.        ]),\n",
              " 'split1_test_score': array([0.98666667, 1.        , 0.99866667, 0.996     , 0.996     ,\n",
              "        0.992     , 0.99466667, 0.98666667, 1.        , 0.99866667,\n",
              "        0.996     , 0.996     , 0.992     , 0.99466667, 0.95866667,\n",
              "        0.99466667, 0.99333333, 0.992     , 0.99066667, 0.98666667,\n",
              "        0.98533333]),\n",
              " 'split2_test_score': array([0.904     , 0.93333333, 0.92666667, 0.93466667, 0.93466667,\n",
              "        0.93466667, 0.93466667, 0.904     , 0.93333333, 0.92666667,\n",
              "        0.93466667, 0.93466667, 0.93466667, 0.93466667, 0.99466667,\n",
              "        0.99733333, 1.        , 1.        , 0.99466667, 0.99466667,\n",
              "        0.99466667]),\n",
              " 'split3_test_score': array([0.88873626, 0.88873626, 0.89423077, 0.89972527, 0.89835165,\n",
              "        0.89697802, 0.89697802, 0.88873626, 0.88873626, 0.89423077,\n",
              "        0.89972527, 0.89835165, 0.89697802, 0.89697802, 0.9532967 ,\n",
              "        0.95192308, 0.94642857, 0.94642857, 0.9478022 , 0.94505495,\n",
              "        0.94368132]),\n",
              " 'split4_test_score': array([0.93681319, 0.93956044, 0.93956044, 0.93818681, 0.93818681,\n",
              "        0.97115385, 0.96978022, 0.93681319, 0.93956044, 0.93956044,\n",
              "        0.93818681, 0.93818681, 0.97115385, 0.96978022, 0.99862637,\n",
              "        0.99862637, 1.        , 1.        , 1.        , 1.        ,\n",
              "        1.        ]),\n",
              " 'split5_test_score': array([0.91758242, 0.91346154, 0.91346154, 0.91346154, 0.94505495,\n",
              "        0.94642857, 0.94505495, 0.91758242, 0.91346154, 0.91346154,\n",
              "        0.91346154, 0.94505495, 0.94642857, 0.94505495, 0.98076923,\n",
              "        1.        , 1.        , 1.        , 0.99862637, 0.99725275,\n",
              "        0.99587912]),\n",
              " 'split6_test_score': array([0.91758242, 0.93269231, 0.9271978 , 0.94093407, 0.93818681,\n",
              "        0.93956044, 0.93681319, 0.91758242, 0.93269231, 0.9271978 ,\n",
              "        0.94093407, 0.93818681, 0.93956044, 0.93681319, 0.92582418,\n",
              "        0.9217033 , 0.9217033 , 0.92445055, 0.96840659, 0.97115385,\n",
              "        0.96978022]),\n",
              " 'split7_test_score': array([1.        , 0.99725275, 0.99587912, 0.99862637, 0.99862637,\n",
              "        1.        , 1.        , 1.        , 0.99725275, 0.99587912,\n",
              "        0.99862637, 0.99862637, 1.        , 1.        , 1.        ,\n",
              "        1.        , 1.        , 1.        , 1.        , 1.        ,\n",
              "        1.        ]),\n",
              " 'split8_test_score': array([0.94142857, 0.98142857, 0.97285714, 0.97428571, 0.97285714,\n",
              "        0.96857143, 0.96428571, 0.94142857, 0.98142857, 0.97285714,\n",
              "        0.97428571, 0.97285714, 0.96857143, 0.96428571, 0.99428571,\n",
              "        0.99714286, 0.99714286, 0.99714286, 0.99857143, 0.99714286,\n",
              "        0.99714286]),\n",
              " 'split9_test_score': array([0.92571429, 0.96142857, 0.95857143, 0.95571429, 0.95285714,\n",
              "        0.95142857, 0.95142857, 0.92571429, 0.96142857, 0.95857143,\n",
              "        0.95571429, 0.95285714, 0.95142857, 0.95142857, 0.95857143,\n",
              "        0.96      , 0.96      , 0.96      , 0.96      , 0.95857143,\n",
              "        0.95857143]),\n",
              " 'std_fit_time': array([1.19070766e-03, 9.96394572e-05, 3.42228257e-05, 2.49167424e-04,\n",
              "        1.35311154e-04, 5.29099121e-05, 1.63000239e-04, 7.39310645e-04,\n",
              "        1.74432854e-04, 1.59449958e-03, 2.06970577e-03, 1.21897989e-04,\n",
              "        2.89394409e-03, 1.62453206e-04, 6.43179623e-05, 3.80873214e-04,\n",
              "        1.27344798e-04, 4.40837758e-05, 5.45102305e-05, 3.01404935e-05,\n",
              "        6.84697047e-04]),\n",
              " 'std_score_time': array([1.44564690e-04, 1.20957055e-04, 8.08747309e-05, 1.72645925e-03,\n",
              "        1.98233450e-03, 5.52774218e-04, 1.16262552e-03, 8.42658938e-04,\n",
              "        6.23577219e-05, 1.47643337e-03, 1.44431705e-03, 5.42655594e-04,\n",
              "        2.72261683e-04, 5.38639180e-04, 1.30558875e-03, 1.02129628e-04,\n",
              "        7.78827401e-04, 4.19520576e-05, 7.55544114e-05, 1.28515366e-04,\n",
              "        8.25065387e-04]),\n",
              " 'std_test_score': array([0.03806417, 0.03727792, 0.03621394, 0.03414113, 0.03169582,\n",
              "        0.03066891, 0.03138956, 0.03806417, 0.03727792, 0.03621394,\n",
              "        0.03414113, 0.03169582, 0.03066891, 0.03138956, 0.0236581 ,\n",
              "        0.02601717, 0.02713407, 0.02647748, 0.01856555, 0.01885356,\n",
              "        0.01915531])}"
            ]
          },
          "metadata": {},
          "execution_count": 17
        }
      ]
    },
    {
      "cell_type": "code",
      "source": [
        "# creating empty list variable \n",
        "acc = []\n",
        "\n",
        "# running KNN algorithm for 3 to 50 nearest neighbours(odd numbers) and \n",
        "# storing the accuracy values\n",
        "\n",
        "for i in range(3,50,2):\n",
        "    neigh = KNeighborsClassifier(n_neighbors=i)\n",
        "    neigh.fit(X_train, y_train)\n",
        "    train_acc = np.mean(neigh.predict(X_train) == y_train)\n",
        "    test_acc = np.mean(neigh.predict(X_test) == y_test)\n",
        "    acc.append([train_acc, test_acc])\n",
        "\n",
        "\n",
        "import matplotlib.pyplot as plt # library to do visualizations \n",
        "\n",
        "# train accuracy plot \n",
        "plt.plot(np.arange(3,50,2),[i[0] for i in acc],\"ro-\")\n",
        "plt.show()"
      ],
      "metadata": {
        "colab": {
          "base_uri": "https://localhost:8080/",
          "height": 265
        },
        "id": "npFw8TsaG4be",
        "outputId": "cec460fc-b096-4171-bc0d-961ef12b9c97"
      },
      "execution_count": null,
      "outputs": [
        {
          "output_type": "display_data",
          "data": {
            "image/png": "[encoded data removed]",
            "text/plain": [
              "<Figure size 432x288 with 1 Axes>"
            ]
          },
          "metadata": {
            "needs_background": "light"
          }
        }
      ]
    },
    {
      "cell_type": "code",
      "source": [
        ""
      ],
      "metadata": {
        "id": "H8z2C8WKJzQ1"
      },
      "execution_count": null,
      "outputs": []
    }
  ]
}