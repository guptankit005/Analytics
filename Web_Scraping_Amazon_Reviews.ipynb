{
  "nbformat": 4,
  "nbformat_minor": 0,
  "metadata": {
    "colab": {
      "name": "Web Scraping_Amazon Reviews.ipynb",
      "provenance": [],
      "collapsed_sections": [],
      "authorship_tag": "ABX9TyP4PqV4cyjoeReQygdwjDHr",
      "include_colab_link": true
    },
    "kernelspec": {
      "name": "python3",
      "display_name": "Python 3"
    },
    "language_info": {
      "name": "python"
    }
  },
  "cells": [
    {
      "cell_type": "markdown",
      "metadata": {
        "id": "view-in-github",
        "colab_type": "text"
      },
      "source": [
        "<a href=\"https://colab.research.google.com/github/guptankit005/Analytics/blob/master/Web_Scraping_Amazon_Reviews.ipynb\" target=\"_parent\"><img src=\"https://colab.research.google.com/assets/colab-badge.svg\" alt=\"Open In Colab\"/></a>"
      ]
    },
    {
      "cell_type": "markdown",
      "source": [
        "# Importing Libraries"
      ],
      "metadata": {
        "id": "uJgHT2-eHkuU"
      }
    },
    {
      "cell_type": "code",
      "execution_count": 7,
      "metadata": {
        "id": "8uGB3sLzGyhB"
      },
      "outputs": [],
      "source": [
        "# Importing requests to extract content from a url (https://realpython.com/python-requests/#the-get-request)\n",
        "import requests\n",
        "# Importing Beautifulsoup for web scrapping\n",
        "from bs4 import BeautifulSoup as bs \n",
        "#importig regular expression. This module provides regular expression matching operations\n",
        "import re "
      ]
    },
    {
      "cell_type": "code",
      "source": [
        "#importing matplotlib and wordcloud\n",
        "import matplotlib.pyplot as plt\n",
        "from wordcloud import wordcloud\n",
        "%matplotlib inline"
      ],
      "metadata": {
        "id": "KouLtq-EG1rI"
      },
      "execution_count": 5,
      "outputs": []
    },
    {
      "cell_type": "markdown",
      "source": [
        "# Scraping Product Reviews From Website"
      ],
      "metadata": {
        "id": "VWMWK4e7Hoon"
      }
    },
    {
      "cell_type": "code",
      "source": [
        "#creating an enpty list to store reviews\n",
        "review_list = []"
      ],
      "metadata": {
        "id": "s5pdhfYiHfys"
      },
      "execution_count": 6,
      "outputs": []
    },
    {
      "cell_type": "code",
      "source": [
        "for i in range(1,5):\n",
        "  #here range function is used to provide the number of pages that we would like our code to scrape through.\n",
        "  temp_list=[]  \n",
        "  url=\"https://www.amazon.in/Commentaries-Living-2-J-Krishnamurti/product-reviews/0144001527/ref=cm_cr_arp_d_paging_btm_next_2?ie=UTF8&reviewerType=all_reviews&pageNumber=\"+str(i)\n",
        "  response = requests.get(url) #get method is used to get or retrieve data from a specified resource.\n",
        "  soup = bs(response.content,\"html.parser\")# creating soup object to iterate over the extracted content \n",
        "  reviews = soup.find_all(\"span\",attrs={\"class\",\"a-size-base review-text review-text-content\"})# Extracting the content under specific tags.The find_all() method looks through a tag’s descendants and retrieves all descendants that matches our filters.\n",
        "  #type(reviews) is bs4.element.ResultSet\n",
        "  for i in range(len(reviews)):\n",
        "    temp_list.append(reviews[i].text)  \n",
        " \n",
        "  review_list=review_list+temp_list  # adding the reviews of one page to empty list which in future contains all the reviews"
      ],
      "metadata": {
        "id": "j9xeVUJuH0ec"
      },
      "execution_count": 18,
      "outputs": []
    },
    {
      "cell_type": "markdown",
      "source": [
        "# Writing scraped data into a text file"
      ],
      "metadata": {
        "id": "PAFbFg07LYs8"
      }
    },
    {
      "cell_type": "code",
      "source": [
        "# writng reviews in a text file \n",
        "with open(\"reviews.txt\",\"w\",encoding='utf8') as output:\n",
        "    output.write(str(review_list))"
      ],
      "metadata": {
        "id": "lAZHGjKBKUmk"
      },
      "execution_count": 20,
      "outputs": []
    },
    {
      "cell_type": "markdown",
      "source": [
        "# Writing scraped data into a csv file"
      ],
      "metadata": {
        "id": "Pr55OMA8WNHW"
      }
    },
    {
      "cell_type": "code",
      "source": [
        "with open('reviews.csv', 'w') as result:\n",
        "    writer = csv.writer(result, delimiter=\",\")\n",
        "    writer.writerow(['Reviews'])#https://pythonguides.com/python-write-a-list-to-csv/\n",
        "    for row in review_list:\n",
        "        columns = [c.strip() for c in row.strip(', ').split(',')]\n",
        "        writer.writerow(columns)"
      ],
      "metadata": {
        "id": "L2k9jU4FKdTs"
      },
      "execution_count": 30,
      "outputs": []
    },
    {
      "cell_type": "markdown",
      "source": [
        "[Beautiful Soup Documentation](https://www.crummy.com/software/BeautifulSoup/bs4/doc/)"
      ],
      "metadata": {
        "id": "w7ocGInGW8Hc"
      }
    }
  ]
}