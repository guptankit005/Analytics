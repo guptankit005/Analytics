{
  "nbformat": 4,
  "nbformat_minor": 0,
  "metadata": {
    "colab": {
      "name": "Ensemble Model_Bagging.ipynb",
      "provenance": [],
      "collapsed_sections": [],
      "authorship_tag": "ABX9TyOQDzwsgD4K01+I9k5WbLUo",
      "include_colab_link": true
    },
    "kernelspec": {
      "name": "python3",
      "display_name": "Python 3"
    },
    "language_info": {
      "name": "python"
    }
  },
  "cells": [
    {
      "cell_type": "markdown",
      "metadata": {
        "id": "view-in-github",
        "colab_type": "text"
      },
      "source": [
        "<a href=\"https://colab.research.google.com/github/guptankit005/Analytics/blob/master/Ensemble_Model_Bagging.ipynb\" target=\"_parent\"><img src=\"https://colab.research.google.com/assets/colab-badge.svg\" alt=\"Open In Colab\"/></a>"
      ]
    },
    {
      "cell_type": "code",
      "execution_count": 8,
      "metadata": {
        "id": "hQ_ogdCSX4z4"
      },
      "outputs": [],
      "source": [
        "#importing libraries\n",
        "import pandas as pd\n",
        "import numpy as np\n",
        "import matplotlib.pyplot as plt\n",
        "import seaborn as sns\n",
        "%matplotlib inline"
      ]
    },
    {
      "cell_type": "code",
      "source": [
        "#importing data from sklearn\n",
        "from sklearn.datasets import load_breast_cancer\n",
        "data = load_breast_cancer()\n",
        "\n",
        "#converting data into pandas dataframe\n",
        "canc_data = pd.DataFrame(data.data, columns=data.feature_names)\n",
        "\n",
        "#adding target field to the dataset\n",
        "canc_data['target'] = pd.Series(data.target)"
      ],
      "metadata": {
        "id": "HCTzVnvXZiyD"
      },
      "execution_count": 9,
      "outputs": []
    },
    {
      "cell_type": "code",
      "source": [
        "print(data.DESCR)"
      ],
      "metadata": {
        "colab": {
          "base_uri": "https://localhost:8080/"
        },
        "id": "J9HICF04ZfAG",
        "outputId": "eb17cd8d-0396-4138-d26c-b4e5e7718c9b"
      },
      "execution_count": 10,
      "outputs": [
        {
          "output_type": "stream",
          "name": "stdout",
          "text": [
            ".. _breast_cancer_dataset:\n",
            "\n",
            "Breast cancer wisconsin (diagnostic) dataset\n",
            "--------------------------------------------\n",
            "\n",
            "**Data Set Characteristics:**\n",
            "\n",
            "    :Number of Instances: 569\n",
            "\n",
            "    :Number of Attributes: 30 numeric, predictive attributes and the class\n",
            "\n",
            "    :Attribute Information:\n",
            "        - radius (mean of distances from center to points on the perimeter)\n",
            "        - texture (standard deviation of gray-scale values)\n",
            "        - perimeter\n",
            "        - area\n",
            "        - smoothness (local variation in radius lengths)\n",
            "        - compactness (perimeter^2 / area - 1.0)\n",
            "        - concavity (severity of concave portions of the contour)\n",
            "        - concave points (number of concave portions of the contour)\n",
            "        - symmetry\n",
            "        - fractal dimension (\"coastline approximation\" - 1)\n",
            "\n",
            "        The mean, standard error, and \"worst\" or largest (mean of the three\n",
            "        worst/largest values) of these features were computed for each image,\n",
            "        resulting in 30 features.  For instance, field 0 is Mean Radius, field\n",
            "        10 is Radius SE, field 20 is Worst Radius.\n",
            "\n",
            "        - class:\n",
            "                - WDBC-Malignant\n",
            "                - WDBC-Benign\n",
            "\n",
            "    :Summary Statistics:\n",
            "\n",
            "    ===================================== ====== ======\n",
            "                                           Min    Max\n",
            "    ===================================== ====== ======\n",
            "    radius (mean):                        6.981  28.11\n",
            "    texture (mean):                       9.71   39.28\n",
            "    perimeter (mean):                     43.79  188.5\n",
            "    area (mean):                          143.5  2501.0\n",
            "    smoothness (mean):                    0.053  0.163\n",
            "    compactness (mean):                   0.019  0.345\n",
            "    concavity (mean):                     0.0    0.427\n",
            "    concave points (mean):                0.0    0.201\n",
            "    symmetry (mean):                      0.106  0.304\n",
            "    fractal dimension (mean):             0.05   0.097\n",
            "    radius (standard error):              0.112  2.873\n",
            "    texture (standard error):             0.36   4.885\n",
            "    perimeter (standard error):           0.757  21.98\n",
            "    area (standard error):                6.802  542.2\n",
            "    smoothness (standard error):          0.002  0.031\n",
            "    compactness (standard error):         0.002  0.135\n",
            "    concavity (standard error):           0.0    0.396\n",
            "    concave points (standard error):      0.0    0.053\n",
            "    symmetry (standard error):            0.008  0.079\n",
            "    fractal dimension (standard error):   0.001  0.03\n",
            "    radius (worst):                       7.93   36.04\n",
            "    texture (worst):                      12.02  49.54\n",
            "    perimeter (worst):                    50.41  251.2\n",
            "    area (worst):                         185.2  4254.0\n",
            "    smoothness (worst):                   0.071  0.223\n",
            "    compactness (worst):                  0.027  1.058\n",
            "    concavity (worst):                    0.0    1.252\n",
            "    concave points (worst):               0.0    0.291\n",
            "    symmetry (worst):                     0.156  0.664\n",
            "    fractal dimension (worst):            0.055  0.208\n",
            "    ===================================== ====== ======\n",
            "\n",
            "    :Missing Attribute Values: None\n",
            "\n",
            "    :Class Distribution: 212 - Malignant, 357 - Benign\n",
            "\n",
            "    :Creator:  Dr. William H. Wolberg, W. Nick Street, Olvi L. Mangasarian\n",
            "\n",
            "    :Donor: Nick Street\n",
            "\n",
            "    :Date: November, 1995\n",
            "\n",
            "This is a copy of UCI ML Breast Cancer Wisconsin (Diagnostic) datasets.\n",
            "https://goo.gl/U2Uwz2\n",
            "\n",
            "Features are computed from a digitized image of a fine needle\n",
            "aspirate (FNA) of a breast mass.  They describe\n",
            "characteristics of the cell nuclei present in the image.\n",
            "\n",
            "Separating plane described above was obtained using\n",
            "Multisurface Method-Tree (MSM-T) [K. P. Bennett, \"Decision Tree\n",
            "Construction Via Linear Programming.\" Proceedings of the 4th\n",
            "Midwest Artificial Intelligence and Cognitive Science Society,\n",
            "pp. 97-101, 1992], a classification method which uses linear\n",
            "programming to construct a decision tree.  Relevant features\n",
            "were selected using an exhaustive search in the space of 1-4\n",
            "features and 1-3 separating planes.\n",
            "\n",
            "The actual linear program used to obtain the separating plane\n",
            "in the 3-dimensional space is that described in:\n",
            "[K. P. Bennett and O. L. Mangasarian: \"Robust Linear\n",
            "Programming Discrimination of Two Linearly Inseparable Sets\",\n",
            "Optimization Methods and Software 1, 1992, 23-34].\n",
            "\n",
            "This database is also available through the UW CS ftp server:\n",
            "\n",
            "ftp ftp.cs.wisc.edu\n",
            "cd math-prog/cpo-dataset/machine-learn/WDBC/\n",
            "\n",
            ".. topic:: References\n",
            "\n",
            "   - W.N. Street, W.H. Wolberg and O.L. Mangasarian. Nuclear feature extraction \n",
            "     for breast tumor diagnosis. IS&T/SPIE 1993 International Symposium on \n",
            "     Electronic Imaging: Science and Technology, volume 1905, pages 861-870,\n",
            "     San Jose, CA, 1993.\n",
            "   - O.L. Mangasarian, W.N. Street and W.H. Wolberg. Breast cancer diagnosis and \n",
            "     prognosis via linear programming. Operations Research, 43(4), pages 570-577, \n",
            "     July-August 1995.\n",
            "   - W.H. Wolberg, W.N. Street, and O.L. Mangasarian. Machine learning techniques\n",
            "     to diagnose breast cancer from fine-needle aspirates. Cancer Letters 77 (1994) \n",
            "     163-171.\n"
          ]
        }
      ]
    },
    {
      "cell_type": "code",
      "source": [
        "#printing first five rows of data\n",
        "#canc_data.head()\n",
        "\n",
        "#checking information about all the columns\n",
        "#canc_data.info()\n",
        "\n",
        "#checking basic statistical distribution of data\n",
        "#canc_data.describe().transpose()\n",
        "\n",
        "#checking for null values\n",
        "#canc_data.isnull().sum()\n",
        "\n",
        "#checking for duplicate rows\n",
        "#canc_data.duplicated().sum()\n",
        "\n",
        "#212 - Malignant, 357 - Benign\n",
        "canc_data['target'].value_counts()\n",
        "#value count to see if data is balanced or imbalanced."
      ],
      "metadata": {
        "colab": {
          "base_uri": "https://localhost:8080/"
        },
        "id": "3EDwt4k3bakk",
        "outputId": "f6f444ef-05be-4027-c51b-3270af2e3ee3"
      },
      "execution_count": 11,
      "outputs": [
        {
          "output_type": "execute_result",
          "data": {
            "text/plain": [
              "1    357\n",
              "0    212\n",
              "Name: target, dtype: int64"
            ]
          },
          "metadata": {},
          "execution_count": 11
        }
      ]
    },
    {
      "cell_type": "code",
      "source": [
        "#creating X and y\n",
        "X_feature = list(canc_data.columns)\n",
        "X_feature.remove('target')\n",
        "\n",
        "X = canc_data[X_feature]\n",
        "y = canc_data['target']"
      ],
      "metadata": {
        "id": "ZcQ90Su2dRoJ"
      },
      "execution_count": 12,
      "outputs": []
    },
    {
      "cell_type": "code",
      "source": [
        "#splitting data for training and testing\n",
        "from sklearn.model_selection import train_test_split\n",
        "X_train, X_test, y_train, y_test = train_test_split(X, y, test_size = 0.3, random_state = 100)"
      ],
      "metadata": {
        "id": "HguHeeo1dL1v"
      },
      "execution_count": 13,
      "outputs": []
    },
    {
      "cell_type": "markdown",
      "source": [
        "# Random Forest"
      ],
      "metadata": {
        "id": "BHxaTcWNRehX"
      }
    },
    {
      "cell_type": "code",
      "source": [
        "#importing Random Forest from sklearn\n",
        "from sklearn.ensemble import RandomForestClassifier\n",
        "\n",
        "random_clf = RandomForestClassifier(max_depth=10, n_estimators=50, n_jobs=1, random_state=4).fit(X_train, y_train)\n",
        "\n",
        "#predicting for our test data\n",
        "y_pred = random_clf.predict(X_test)\n",
        "#generating classification report \n",
        "from sklearn.metrics import classification_report\n",
        "print(classification_report(y_test, y_pred))\n",
        "\n",
        "#importing libraries to check model performance\n",
        "from sklearn.metrics import confusion_matrix\n",
        "from sklearn.metrics import accuracy_score\n",
        "from sklearn.metrics import log_loss\n",
        "from sklearn import metrics\n",
        "\n",
        "print(\"Accuracy score on test: \" , round((random_clf.score(X_test, y_test)),3))\n",
        "print(\"Accuracy score on train: \", round((random_clf.score(X_train, y_train)),3))\n",
        "\n",
        "#printing log loss for the model\n",
        "print('log_loss : ', log_loss(y_test, y_pred))\n",
        "\n",
        "\n",
        "\n",
        "#let find ROC and AUC score\n",
        "#before we calculate roc_auc_score(), we need to find out the predicted probabilityiies for test data.\n",
        "\n",
        "pred_prob = pd.DataFrame(random_clf.predict_proba(X_test))\n",
        "\n",
        "#we'll also add the actual label\n",
        "\n",
        "test_result = pd.DataFrame( { 'actual' : y_test})\n",
        "test_result = test_result.reset_index()\n",
        "\n",
        "test_result['prob_0'] = pred_prob.iloc[:,0:1]\n",
        "test_result['prob_1'] = pred_prob.iloc[:,1:2]\n",
        "\n",
        "#to calculate ROC AUC score we will pass actual class labels and predicted probability \n",
        "\n",
        "auc_score = round(metrics.roc_auc_score(test_result.actual, test_result.prob_1),3)\n",
        "print(\"AUC Score : \",auc_score)\n",
        "\n",
        "\n",
        "#generating confusion matrix\n",
        "cf_matrix = confusion_matrix(y_test, y_pred)\n",
        "sns.heatmap(cf_matrix, annot=True, cmap='Blues')\n",
        "plt.ylabel(\"True Label\")\n",
        "plt.xlabel(\"Predicted Label\")\n",
        "plt.show()\n"
      ],
      "metadata": {
        "id": "snEi0UPOgYYB",
        "colab": {
          "base_uri": "https://localhost:8080/",
          "height": 509
        },
        "outputId": "6ac9479e-51e0-44c2-e2b1-6f1e1f95fbbb"
      },
      "execution_count": 14,
      "outputs": [
        {
          "output_type": "stream",
          "name": "stdout",
          "text": [
            "              precision    recall  f1-score   support\n",
            "\n",
            "           0       0.97      0.91      0.94        69\n",
            "           1       0.94      0.98      0.96       102\n",
            "\n",
            "    accuracy                           0.95       171\n",
            "   macro avg       0.96      0.95      0.95       171\n",
            "weighted avg       0.95      0.95      0.95       171\n",
            "\n",
            "Accuracy score on test:  0.953\n",
            "Accuracy score on train:  1.0\n",
            "log_loss :  1.61587724411618\n",
            "AUC Score :  0.993\n"
          ]
        },
        {
          "output_type": "display_data",
          "data": {
            "image/png": "[encoded data removed]",
            "text/plain": [
              "<Figure size 432x288 with 2 Axes>"
            ]
          },
          "metadata": {
            "needs_background": "light"
          }
        }
      ]
    },
    {
      "cell_type": "code",
      "source": [
        "#creating a dataframe for feature and importance\n",
        "feature_ranking = pd.DataFrame({'feature' : X_train.columns,\n",
        "                                'Importance' : random_clf.feature_importances_}).sort_values('Importance', ascending = False)\n",
        "\n",
        "plt.figure(figsize=(10,8))\n",
        "\n",
        "sns.barplot(y = 'feature', x = 'Importance', data = feature_ranking)\n",
        "plt.show()"
      ],
      "metadata": {
        "colab": {
          "base_uri": "https://localhost:8080/",
          "height": 497
        },
        "id": "8pEbKRXONCgb",
        "outputId": "b578fa32-4289-4466-934f-45896deec265"
      },
      "execution_count": 18,
      "outputs": [
        {
          "output_type": "display_data",
          "data": {
            "image/png": "[encoded data removed]",
            "text/plain": [
              "<Figure size 720x576 with 1 Axes>"
            ]
          },
          "metadata": {
            "needs_background": "light"
          }
        }
      ]
    },
    {
      "cell_type": "markdown",
      "source": [
        "# Bagging"
      ],
      "metadata": {
        "id": "omZ9kWJQRh5X"
      }
    },
    {
      "cell_type": "code",
      "source": [
        "from sklearn import tree\n",
        "clftree = tree.DecisionTreeClassifier()\n",
        "from sklearn.ensemble import BaggingClassifier\n",
        "\n",
        "\n",
        "bag_clf = BaggingClassifier(base_estimator = clftree, n_estimators = 500, bootstrap = True, n_jobs = 1, random_state = 42).fit(X_train, y_train)\n",
        "\n",
        "#generating classification report \n",
        "from sklearn.metrics import classification_report\n",
        "print(classification_report(y_test, y_pred))\n",
        "\n",
        "#importing libraries to check model performance\n",
        "from sklearn.metrics import confusion_matrix\n",
        "from sklearn.metrics import accuracy_score\n",
        "from sklearn.metrics import log_loss\n",
        "from sklearn import metrics\n",
        "\n",
        "print(\"Accuracy score on test: \" , round((bag_clf.score(X_test, y_test)),3))\n",
        "print(\"Accuracy score on train: \", round((bag_clf.score(X_train, y_train)),3))\n",
        "\n",
        "#printing log loss for the model\n",
        "print('log_loss : ', log_loss(y_test, y_pred))\n",
        "\n",
        "\n",
        "\n",
        "#let find ROC and AUC score\n",
        "#before we calculate roc_auc_score(), we need to find out the predicted probabilityiies for test data.\n",
        "\n",
        "pred_prob = pd.DataFrame(bag_clf.predict_proba(X_test))\n",
        "\n",
        "#we'll also add the actual label\n",
        "\n",
        "test_result = pd.DataFrame( { 'actual' : y_test})\n",
        "test_result = test_result.reset_index()\n",
        "\n",
        "test_result['prob_0'] = pred_prob.iloc[:,0:1]\n",
        "test_result['prob_1'] = pred_prob.iloc[:,1:2]\n",
        "\n",
        "#to calculate ROC AUC score we will pass actual class labels and predicted probability \n",
        "\n",
        "auc_score = round(metrics.roc_auc_score(test_result.actual, test_result.prob_1),3)\n",
        "print(\"AUC Score : \",auc_score)\n",
        "\n",
        "\n",
        "#generating confusion matrix\n",
        "cf_matrix = confusion_matrix(y_test, y_pred)\n",
        "sns.heatmap(cf_matrix, annot=True, cmap='Blues')\n",
        "plt.ylabel(\"True Label\")\n",
        "plt.xlabel(\"Predicted Label\")\n",
        "plt.show()\n",
        "\n"
      ],
      "metadata": {
        "colab": {
          "base_uri": "https://localhost:8080/",
          "height": 509
        },
        "id": "YvF4cT5mOsJq",
        "outputId": "a09f536b-fa74-4d9b-8d61-a3be597e8a4b"
      },
      "execution_count": 23,
      "outputs": [
        {
          "output_type": "stream",
          "name": "stdout",
          "text": [
            "              precision    recall  f1-score   support\n",
            "\n",
            "           0       0.97      0.91      0.94        69\n",
            "           1       0.94      0.98      0.96       102\n",
            "\n",
            "    accuracy                           0.95       171\n",
            "   macro avg       0.96      0.95      0.95       171\n",
            "weighted avg       0.95      0.95      0.95       171\n",
            "\n",
            "Accuracy score on test:  0.959\n",
            "Accuracy score on train:  1.0\n",
            "log_loss :  1.61587724411618\n",
            "AUC Score :  0.994\n"
          ]
        },
        {
          "output_type": "display_data",
          "data": {
            "image/png": "[encoded data removed]",
            "text/plain": [
              "<Figure size 432x288 with 2 Axes>"
            ]
          },
          "metadata": {
            "needs_background": "light"
          }
        }
      ]
    },
    {
      "cell_type": "code",
      "source": [
        ""
      ],
      "metadata": {
        "id": "0IFW9dxRUUpt"
      },
      "execution_count": null,
      "outputs": []
    }
  ]
}